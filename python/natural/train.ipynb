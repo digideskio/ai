{
 "cells": [
  {
   "cell_type": "code",
   "execution_count": 3,
   "metadata": {
    "collapsed": true
   },
   "outputs": [],
   "source": [
    "import random\n",
    "import tensorflow as tf\n",
    "import numpy as np\n",
    "\n",
    "from tensorflow.models.rnn import rnn_cell\n",
    "from tensorflow.models.rnn import seq2seq"
   ]
  },
  {
   "cell_type": "code",
   "execution_count": 8,
   "metadata": {
    "collapsed": true
   },
   "outputs": [],
   "source": [
    "MIN_NUMBER = 1\n",
    "MAX_NUMBER = 99\n",
    "def number():\n",
    "    return random.randrange(MIN_NUMBER, MAX_NUMBER + 1)"
   ]
  },
  {
   "cell_type": "code",
   "execution_count": 16,
   "metadata": {
    "collapsed": true
   },
   "outputs": [],
   "source": [
    "SOURCE_VOCAB, TARGET_VOCAB = '10*\\n', '10\\n'\n",
    "MAX_SOURCE_LEN = 2 + 2 * len(str(MAX_NUMBER))\n",
    "MAX_TARGET_LEN = 5\n",
    "\n",
    "# Generates one example (source, target) pair\n",
    "def generate():\n",
    "    a, b = number(), number()\n",
    "    c = a + b\n",
    "    source, target = '{0:b}+{0:b}\\n'.format(a, b), '{0:b}\\n'.format(c)\n",
    "    assert all(ch in SOURCE_VOCAB for ch in source)\n",
    "    assert all(ch in TARGET_VOCAB for ch in target)\n",
    "    assert len(source) <= MAX_SOURCE_LEN\n",
    "    assert len(target) <= MAX_TARGET_LEN\n",
    "    return source, target"
   ]
  },
  {
   "cell_type": "code",
   "execution_count": 12,
   "metadata": {
    "collapsed": true
   },
   "outputs": [],
   "source": [
    "# Set up some hyperparameters & other initialization\n",
    "learning_rate = tf.Variable(0.5, trainable=False)\n",
    "learning_rate_decay_op = learning_rate.assign(learning_rate * 0.99)\n",
    "global_step = tf.Variable(0, trainable=False)\n",
    "\n",
    "NUM_LAYERS = 2\n",
    "LAYER_SIZE = 128"
   ]
  },
  {
   "cell_type": "code",
   "execution_count": 13,
   "metadata": {
    "collapsed": false
   },
   "outputs": [],
   "source": [
    "# Set up the core RNN cells of the tensor network\n",
    "single_cell = rnn_cell.BasicLSTMCell(LAYER_SIZE)\n",
    "multi_cell = rnn_cell.MultiRNNCell([single_cell] * NUM_LAYERS)"
   ]
  },
  {
   "cell_type": "code",
   "execution_count": 14,
   "metadata": {
    "collapsed": true
   },
   "outputs": [],
   "source": [
    "# This function handles embedding for the input and attention.\n",
    "def seq2seq_f(encoder_inputs, decoder_inputs, do_decode):\n",
    "    return seq2seq.embedding_attention_seq2seq(\n",
    "        encoder_inputs, decoder_inputs, multi_cell,\n",
    "        len(SOURCE_VOCAB), len(TARGET_VOCAB),\n",
    "        feed_previous=do_decode)"
   ]
  },
  {
   "cell_type": "code",
   "execution_count": 17,
   "metadata": {
    "collapsed": true
   },
   "outputs": [],
   "source": [
    "# Set up input and weight placeholders, for the source and target embeddings\n",
    "encoder_inputs = [tf.placeholder(tf.int32,\n",
    "                                 shape=[None],\n",
    "                                 name='encoder{0}'.format(i))\n",
    "                  for i in range(len(SOURCE_VOCAB))]\n",
    "decoder_inputs = [tf.placeholder(tf.int32,\n",
    "                                 shape=[None],\n",
    "                                 name='decoder{0}'.format(i))\n",
    "                  for i in range(len(TARGET_VOCAB))]\n",
    "target_weights = [tf.placeholder(tf.float32,\n",
    "                                 shape=[None],\n",
    "                                 name='weight{0}'.format(i))\n",
    "                  for i in range(len(TARGET_VOCAB))]    "
   ]
  },
  {
   "cell_type": "code",
   "execution_count": 19,
   "metadata": {
    "collapsed": false
   },
   "outputs": [],
   "source": [
    "# Our targets are decoder inputs shifted by one.\n",
    "targets = [decoder_inputs[i + 1]\n",
    "           for i in range(len(decoder_inputs) - 1)]"
   ]
  },
  {
   "cell_type": "code",
   "execution_count": null,
   "metadata": {
    "collapsed": true
   },
   "outputs": [],
   "source": []
  }
 ],
 "metadata": {
  "kernelspec": {
   "display_name": "Python 3",
   "language": "python",
   "name": "python3"
  },
  "language_info": {
   "codemirror_mode": {
    "name": "ipython",
    "version": 3
   },
   "file_extension": ".py",
   "mimetype": "text/x-python",
   "name": "python",
   "nbconvert_exporter": "python",
   "pygments_lexer": "ipython3",
   "version": "3.5.1"
  }
 },
 "nbformat": 4,
 "nbformat_minor": 0
}
