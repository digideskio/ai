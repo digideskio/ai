{
 "cells": [
  {
   "cell_type": "code",
   "execution_count": 1,
   "metadata": {
    "collapsed": false
   },
   "outputs": [],
   "source": [
    "from model import *\n",
    "m = Model()"
   ]
  },
  {
   "cell_type": "code",
   "execution_count": 2,
   "metadata": {
    "collapsed": false
   },
   "outputs": [],
   "source": [
    "def chunk():\n",
    "    loss = None\n",
    "    for i in range(50):\n",
    "        for j in range(100):\n",
    "            loss = m.train_batch(100)\n",
    "        print('{}/ loss = {}'.format(i, loss))"
   ]
  },
  {
   "cell_type": "code",
   "execution_count": 3,
   "metadata": {
    "collapsed": false
   },
   "outputs": [
    {
     "name": "stdout",
     "output_type": "stream",
     "text": [
      "0/ loss = 0.6794168949127197\n",
      "1/ loss = 0.6691979765892029\n",
      "2/ loss = 0.6528622508049011\n",
      "3/ loss = 0.6301438808441162\n",
      "4/ loss = 0.6083139181137085\n",
      "5/ loss = 0.5922762751579285\n",
      "6/ loss = 0.48166289925575256\n",
      "7/ loss = 0.4359031319618225\n",
      "8/ loss = 0.3750424087047577\n",
      "9/ loss = 0.3247540295124054\n",
      "10/ loss = 0.3085244297981262\n",
      "11/ loss = 0.2523798942565918\n",
      "12/ loss = 0.27359625697135925\n",
      "13/ loss = 0.20741944015026093\n",
      "14/ loss = 0.19842970371246338\n",
      "15/ loss = 0.15063712000846863\n",
      "16/ loss = 0.18544040620326996\n",
      "17/ loss = 0.11476625502109528\n",
      "18/ loss = 0.08658262342214584\n",
      "19/ loss = 0.0661526471376419\n",
      "20/ loss = 0.06648804992437363\n",
      "21/ loss = 0.05644196644425392\n",
      "22/ loss = 0.05082566663622856\n",
      "23/ loss = 0.0609583854675293\n",
      "24/ loss = 0.03345685079693794\n",
      "25/ loss = 0.02072947472333908\n",
      "26/ loss = 0.009603532962501049\n",
      "27/ loss = 0.018630778416991234\n",
      "28/ loss = 0.009081716649234295\n",
      "29/ loss = 0.03355914726853371\n",
      "30/ loss = 0.01240591611713171\n",
      "31/ loss = 0.004434479400515556\n",
      "32/ loss = 0.0027596447616815567\n",
      "33/ loss = 0.0024572527036070824\n",
      "34/ loss = 0.0018197086174041033\n",
      "35/ loss = 0.0018338975496590137\n",
      "36/ loss = 0.0011464540148153901\n",
      "37/ loss = 0.0010061964858323336\n",
      "38/ loss = 0.0007341632153838873\n",
      "39/ loss = 0.0008079622639343143\n",
      "40/ loss = 0.0009090985404327512\n",
      "41/ loss = 0.000740197254344821\n",
      "42/ loss = 0.0007926946855150163\n",
      "43/ loss = 0.0004415652947500348\n",
      "44/ loss = 0.0005310631822794676\n",
      "45/ loss = 0.000604384345933795\n",
      "46/ loss = 0.00047947809798642993\n",
      "47/ loss = 0.0004993296461179852\n",
      "48/ loss = 0.0004246243042871356\n",
      "49/ loss = 0.0003370833001099527\n"
     ]
    }
   ],
   "source": [
    "chunk()"
   ]
  },
  {
   "cell_type": "code",
   "execution_count": 4,
   "metadata": {
    "collapsed": false
   },
   "outputs": [
    {
     "name": "stdout",
     "output_type": "stream",
     "text": [
      "1000 / 1000 = 100.0%\n"
     ]
    }
   ],
   "source": [
    "m.score()"
   ]
  },
  {
   "cell_type": "code",
   "execution_count": 5,
   "metadata": {
    "collapsed": false
   },
   "outputs": [
    {
     "name": "stdout",
     "output_type": "stream",
     "text": [
      "input puzzle: 0111101+0111101\n",
      "right answer: 00111101\n",
      "OK\n",
      "\n",
      "input puzzle: 0010010+1010111\n",
      "right answer: 10011001\n",
      "OK\n",
      "\n",
      "input puzzle: 1110011+1100101\n",
      "right answer: 01011101\n",
      "OK\n",
      "\n",
      "input puzzle: 0000111+0011111\n",
      "right answer: 00110111\n",
      "OK\n",
      "\n",
      "input puzzle: 1111011+0110011\n",
      "right answer: 10101011\n",
      "OK\n",
      "\n",
      "input puzzle: 0000001+0011010\n",
      "right answer: 00110110\n",
      "OK\n",
      "\n",
      "input puzzle: 1110010+0100110\n",
      "right answer: 10011010\n",
      "OK\n",
      "\n",
      "input puzzle: 1010100+1010100\n",
      "right answer: 01010100\n",
      "OK\n",
      "\n",
      "input puzzle: 0100100+1010001\n",
      "right answer: 11101010\n",
      "OK\n",
      "\n",
      "input puzzle: 1000010+0101111\n",
      "right answer: 11011001\n",
      "OK\n",
      "\n"
     ]
    }
   ],
   "source": [
    "m.sample()"
   ]
  },
  {
   "cell_type": "code",
   "execution_count": null,
   "metadata": {
    "collapsed": true
   },
   "outputs": [],
   "source": []
  }
 ],
 "metadata": {
  "kernelspec": {
   "display_name": "Python 3",
   "language": "python",
   "name": "python3"
  },
  "language_info": {
   "codemirror_mode": {
    "name": "ipython",
    "version": 3
   },
   "file_extension": ".py",
   "mimetype": "text/x-python",
   "name": "python",
   "nbconvert_exporter": "python",
   "pygments_lexer": "ipython3",
   "version": "3.5.1"
  }
 },
 "nbformat": 4,
 "nbformat_minor": 0
}
